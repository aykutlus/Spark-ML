{
 "cells": [
  {
   "cell_type": "code",
   "execution_count": 1,
   "metadata": {},
   "outputs": [],
   "source": [
    "# Import requiered libriaries\n",
    "\n",
    "from pyspark.sql import SparkSession\n",
    "from pyspark.sql.types import *\n",
    "%matplotlib inline\n",
    "import matplotlib.pyplot as plt\n",
    "import pandas as pd\n",
    "import numpy as np\n",
    "from pyspark.ml.linalg import Vectors\n",
    "import matplotlib.patches as mpatches\n",
    "import random\n",
    "import folium\n"
   ]
  },
  {
   "cell_type": "code",
   "execution_count": 2,
   "metadata": {},
   "outputs": [],
   "source": [
    "# Set spark session\n",
    "spark_session = SparkSession \\\n",
    "    .builder \\\n",
    "    .getOrCreate()"
   ]
  },
  {
   "cell_type": "code",
   "execution_count": 3,
   "metadata": {},
   "outputs": [],
   "source": [
    "# Load dataset\n",
    "dataset = spark_session\\\n",
    "        .read\\\n",
    "        .format(\"csv\")\\\n",
    "        .options(header='true', inferschema='true', delimiter=',')\\\n",
    "        .load(\"/home/master/crimes.csv\")"
   ]
  },
  {
   "cell_type": "code",
   "execution_count": 4,
   "metadata": {},
   "outputs": [],
   "source": [
    "seed=1\n",
    "dataset1 = dataset.sample(fraction=0.05,seed=seed)\n",
    "del(dataset) #delete pandas dataframe from memory"
   ]
  },
  {
   "cell_type": "markdown",
   "metadata": {},
   "source": [
    "## Preprocessing"
   ]
  },
  {
   "cell_type": "code",
   "execution_count": 5,
   "metadata": {},
   "outputs": [],
   "source": [
    "#Clear blank values\n",
    "dataset = dataset1.where(dataset1.Latitude.isNotNull() & dataset1.Longitude.isNotNull())"
   ]
  },
  {
   "cell_type": "code",
   "execution_count": 6,
   "metadata": {},
   "outputs": [
    {
     "name": "stdout",
     "output_type": "stream",
     "text": [
      "root\n",
      " |-- ID: integer (nullable = true)\n",
      " |-- Case Number: string (nullable = true)\n",
      " |-- Date: string (nullable = true)\n",
      " |-- Block: string (nullable = true)\n",
      " |-- IUCR: string (nullable = true)\n",
      " |-- Primary Type: string (nullable = true)\n",
      " |-- Description: string (nullable = true)\n",
      " |-- Location Description: string (nullable = true)\n",
      " |-- Arrest: boolean (nullable = true)\n",
      " |-- Domestic: boolean (nullable = true)\n",
      " |-- Beat: integer (nullable = true)\n",
      " |-- District: integer (nullable = true)\n",
      " |-- Ward: integer (nullable = true)\n",
      " |-- Community Area: integer (nullable = true)\n",
      " |-- FBI Code: string (nullable = true)\n",
      " |-- X Coordinate: integer (nullable = true)\n",
      " |-- Y Coordinate: integer (nullable = true)\n",
      " |-- Year: integer (nullable = true)\n",
      " |-- Updated On: string (nullable = true)\n",
      " |-- Latitude: double (nullable = true)\n",
      " |-- Longitude: double (nullable = true)\n",
      " |-- Location: string (nullable = true)\n",
      "\n"
     ]
    }
   ],
   "source": [
    "dataset.printSchema()"
   ]
  },
  {
   "cell_type": "code",
   "execution_count": 7,
   "metadata": {},
   "outputs": [
    {
     "name": "stdout",
     "output_type": "stream",
     "text": [
      "+--------+-----------+--------------------+--------------------+----+--------------------+--------------------+--------------------+------+--------+----+--------+----+--------------+--------+------------+------------+----+--------------------+------------+-------------+--------------------+\n",
      "|      ID|Case Number|                Date|               Block|IUCR|        Primary Type|         Description|Location Description|Arrest|Domestic|Beat|District|Ward|Community Area|FBI Code|X Coordinate|Y Coordinate|Year|          Updated On|    Latitude|    Longitude|            Location|\n",
      "+--------+-----------+--------------------+--------------------+----+--------------------+--------------------+--------------------+------+--------+----+--------+----+--------------+--------+------------+------------+----+--------------------+------------+-------------+--------------------+\n",
      "|11556037|   JC103643|01/03/2019 07:20:...|     0000X W RWY 27R|2890|PUBLIC PEACE VIOL...|     OTHER VIOLATION|            AIRCRAFT| false|   false|1654|      16|  41|            76|      26|     1100374|     1943906|2019|08/17/2019 03:57:...|42.002816387| -87.90609433|(42.002816387, -8...|\n",
      "|11668309|   JC238187|04/25/2019 05:20:...|108XX S DR MARTIN...|0486|             BATTERY|DOMESTIC BATTERY ...|           RESIDENCE| false|    true| 513|       5|   9|            49|     08B|     1180832|     1833222|2019|06/30/2019 03:56:...|41.697609261|-87.613507612|(41.697609261, -8...|\n",
      "|11668214|   JC237385|04/25/2019 03:30:...|054XX W MONTROSE AVE|1310|     CRIMINAL DAMAGE|         TO PROPERTY|           APARTMENT| false|   false|1624|      16|  38|            15|      14|     1139327|     1928724|2019|08/17/2019 03:57:...|41.960532919|-87.763157737|(41.960532919, -8...|\n",
      "|11646785|   JC214429|04/06/2019 06:37:...| 022XX W MAYPOLE AVE|0610|            BURGLARY|      FORCIBLE ENTRY|              STREET| false|   false|1223|      12|  27|            28|      05|     1161304|     1900968|2019|06/03/2019 04:14:...|41.883938847|-87.683132783|(41.883938847, -8...|\n",
      "|11675338|   JC248737|05/03/2019 07:50:...| 053XX N WESTERN AVE|0460|             BATTERY|              SIMPLE|            SIDEWALK| false|   false|2011|      20|  40|             4|     08B|     1159383|     1935290|2019|06/03/2019 04:14:...|41.978160468|-87.689240087|(41.978160468, -8...|\n",
      "+--------+-----------+--------------------+--------------------+----+--------------------+--------------------+--------------------+------+--------+----+--------+----+--------------+--------+------------+------------+----+--------------------+------------+-------------+--------------------+\n",
      "only showing top 5 rows\n",
      "\n"
     ]
    }
   ],
   "source": [
    "dataset.show(5)"
   ]
  },
  {
   "cell_type": "code",
   "execution_count": 8,
   "metadata": {},
   "outputs": [],
   "source": [
    "## Now we should use ID as label and Latitude and Longitude as feature vector and convert them to ML format."
   ]
  },
  {
   "cell_type": "code",
   "execution_count": 9,
   "metadata": {},
   "outputs": [],
   "source": [
    "id1 = dataset.select(\"ID\").rdd.flatMap(lambda x: x).collect()\n",
    "lat = dataset.select(\"Latitude\").rdd.flatMap(lambda x: x).collect()\n",
    "long = dataset.select(\"Longitude\").rdd.flatMap(lambda x: x).collect()"
   ]
  },
  {
   "cell_type": "code",
   "execution_count": 10,
   "metadata": {},
   "outputs": [],
   "source": [
    "loc_tuple = zip(lat,long)"
   ]
  },
  {
   "cell_type": "code",
   "execution_count": 11,
   "metadata": {},
   "outputs": [
    {
     "data": {
      "text/plain": [
       "DenseVector([41.6976, -87.6135])"
      ]
     },
     "execution_count": 11,
     "metadata": {},
     "output_type": "execute_result"
    }
   ],
   "source": [
    "list1 = []\n",
    "for i in loc_tuple:\n",
    "    list1.append(Vectors.dense([i[0],i[1]]))\n",
    "    \n",
    "list1[1]"
   ]
  },
  {
   "cell_type": "code",
   "execution_count": 12,
   "metadata": {},
   "outputs": [],
   "source": [
    "data = zip(id1,list1)"
   ]
  },
  {
   "cell_type": "code",
   "execution_count": 13,
   "metadata": {},
   "outputs": [],
   "source": [
    "df = spark_session.createDataFrame(data, [\"label\", \"features\"])"
   ]
  },
  {
   "cell_type": "code",
   "execution_count": 14,
   "metadata": {},
   "outputs": [
    {
     "name": "stdout",
     "output_type": "stream",
     "text": [
      "root\n",
      " |-- label: long (nullable = true)\n",
      " |-- features: vector (nullable = true)\n",
      "\n"
     ]
    }
   ],
   "source": [
    "df.printSchema()"
   ]
  },
  {
   "cell_type": "code",
   "execution_count": 15,
   "metadata": {},
   "outputs": [
    {
     "name": "stdout",
     "output_type": "stream",
     "text": [
      "+--------+--------------------+\n",
      "|   label|            features|\n",
      "+--------+--------------------+\n",
      "|11556037|[42.002816387,-87...|\n",
      "|11668309|[41.697609261,-87...|\n",
      "|11668214|[41.960532919,-87...|\n",
      "|11646785|[41.883938847,-87...|\n",
      "|11675338|[41.978160468,-87...|\n",
      "+--------+--------------------+\n",
      "only showing top 5 rows\n",
      "\n"
     ]
    }
   ],
   "source": [
    "df.show(5)"
   ]
  },
  {
   "cell_type": "code",
   "execution_count": 16,
   "metadata": {},
   "outputs": [],
   "source": [
    "training, test = df.randomSplit([0.70, 0.20])"
   ]
  },
  {
   "cell_type": "markdown",
   "metadata": {},
   "source": [
    "## KMeans Model"
   ]
  },
  {
   "cell_type": "code",
   "execution_count": 17,
   "metadata": {},
   "outputs": [
    {
     "name": "stdout",
     "output_type": "stream",
     "text": [
      "Enter desired number of cluster(k): 4\n"
     ]
    }
   ],
   "source": [
    "#Asking for number of cluster\n",
    "k=int(input(\"Enter desired number of cluster(k): \"))"
   ]
  },
  {
   "cell_type": "code",
   "execution_count": 18,
   "metadata": {},
   "outputs": [
    {
     "name": "stdout",
     "output_type": "stream",
     "text": [
      "Cluster centers: \n",
      "[ 41.93398803 -87.73005582]\n",
      "[ 41.74121586 -87.60398233]\n",
      "[ 41.88176869 -87.6637549 ]\n",
      "[ 41.77804434 -87.68077472]\n"
     ]
    }
   ],
   "source": [
    "from pyspark.ml.clustering import KMeans\n",
    "\n",
    "# Trains a k-means model\n",
    "\n",
    "kmeans = KMeans()\\\n",
    "        .setK(k)\\\n",
    "        .setSeed(1)\n",
    "\n",
    "kmeans_model = kmeans.fit(training)\n",
    "\n",
    "# Shows the result\n",
    "centers = kmeans_model.clusterCenters()\n",
    "print(\"Cluster centers: \")\n",
    "\n",
    "for center in centers:\n",
    "    print(center)"
   ]
  },
  {
   "cell_type": "code",
   "execution_count": 19,
   "metadata": {},
   "outputs": [
    {
     "name": "stdout",
     "output_type": "stream",
     "text": [
      "root\n",
      " |-- label: long (nullable = true)\n",
      " |-- features: vector (nullable = true)\n",
      " |-- prediction: integer (nullable = false)\n",
      "\n",
      "+-----+--------------------+----------+\n",
      "|label|            features|prediction|\n",
      "+-----+--------------------+----------+\n",
      "| 1121|[41.814042305,-87...|         3|\n",
      "| 1151|[41.858993846,-87...|         2|\n",
      "| 1267|[41.687781719,-87...|         1|\n",
      "| 1362|[41.734454625,-87...|         1|\n",
      "| 1441|[41.891801656,-87...|         0|\n",
      "| 1476|[41.804618366,-87...|         3|\n",
      "| 1564|[41.924404435,-87...|         0|\n",
      "| 1651|[41.773017577,-87...|         1|\n",
      "| 1947|[41.809193694,-87...|         3|\n",
      "| 2018|[41.77204147,-87....|         3|\n",
      "| 2039|[41.923963114,-87...|         0|\n",
      "| 2162|[41.846557565,-87...|         2|\n",
      "| 2220|[41.809319445,-87...|         3|\n",
      "| 2223|[41.823526685,-87...|         3|\n",
      "| 2311|[41.686091626,-87...|         1|\n",
      "| 2339|[41.94044477,-87....|         2|\n",
      "| 2434|[41.894496091,-87...|         0|\n",
      "| 2516|[41.747405985,-87...|         3|\n",
      "| 2618|[41.924567058,-87...|         0|\n",
      "| 2638|[41.890823619,-87...|         0|\n",
      "+-----+--------------------+----------+\n",
      "only showing top 20 rows\n",
      "\n",
      "Test Accuracy = 0.46346 \n",
      "Test Error = 0.53654 \n"
     ]
    }
   ],
   "source": [
    "from pyspark.ml.evaluation import ClusteringEvaluator\n",
    "\n",
    "#Test\n",
    "prediction = kmeans_model.transform(test)\n",
    "\n",
    "prediction.printSchema()\n",
    "prediction.show()\n",
    "\n",
    "# Model evaluation\n",
    "evaluator = ClusteringEvaluator()\n",
    "accuracy = evaluator.evaluate(prediction)\n",
    "\n",
    "print(\"Test Accuracy = %g \" % accuracy)\n",
    "print(\"Test Error = %g \" % (1.0 - accuracy))"
   ]
  },
  {
   "cell_type": "code",
   "execution_count": 20,
   "metadata": {},
   "outputs": [
    {
     "name": "stdout",
     "output_type": "stream",
     "text": [
      "+----------+-----+\n",
      "|prediction|count|\n",
      "+----------+-----+\n",
      "|         1|19367|\n",
      "|         3|15294|\n",
      "|         2|20991|\n",
      "|         0|22813|\n",
      "+----------+-----+\n",
      "\n"
     ]
    }
   ],
   "source": [
    "##number of points of each cluster\n",
    "df = prediction.groupby(\"prediction\").count()\n",
    "df.show()"
   ]
  },
  {
   "cell_type": "markdown",
   "metadata": {},
   "source": [
    "## 2D chart including the centroids"
   ]
  },
  {
   "cell_type": "code",
   "execution_count": 21,
   "metadata": {},
   "outputs": [],
   "source": [
    "def plot_2d_chart(center_data,prediction_data):\n",
    "    plt.figure(figsize=(9,5))\n",
    "    \n",
    "    center_lat = []\n",
    "    center_long = []\n",
    "    \n",
    "    for x,y in centers:\n",
    "        center_lat.append(x)\n",
    "        center_long.append(y)\n",
    "        \n",
    "    list_lat =[]\n",
    "    list_long =[]\n",
    "    list_pred=[]\n",
    "    \n",
    "\n",
    "    number_of_colors = k\n",
    "    color_list = [\"#\"+''.join([random.choice('0123456789ABCDEF') for j in range(6)])\n",
    "                  for i in range(number_of_colors)]\n",
    "        \n",
    "    label = []\n",
    "    \n",
    "    for i in np.arange(0,k):\n",
    "        pred = prediction.select(\"features\",\"prediction\").limit(200).collect()\n",
    "        label.append(\"cluster \" + str(i))\n",
    "        \n",
    "        for x,y in pred:\n",
    "            list_lat.append(x[0])\n",
    "            list_long.append(x[1])\n",
    "            list_pred.append(y)\n",
    "            \n",
    "\n",
    "    recs = []\n",
    "    for i in range(0,len(color_list)):\n",
    "        recs.append(mpatches.Rectangle((0,0),1,1,fc=color_list[i]))\n",
    "            \n",
    "    for i, l in enumerate(list_pred):\n",
    "        plt.scatter(list_lat[i], list_long[i], c=color_list[l] ,marker='X')\n",
    "        plt.legend(recs,label,loc=1)\n",
    "\n",
    "\n",
    "        \n",
    "    plt.scatter(center_lat, center_long,marker=\"o\",s=200,edgecolors=\"red\",facecolors='none',linewidths=3)\n",
    "    plt.xlabel('Latitude')\n",
    "    plt.ylabel('Longitude')\n",
    "    plt.title('KMeans Centroids')\n",
    "    plt.grid()\n",
    "    plt.show()\n"
   ]
  },
  {
   "cell_type": "code",
   "execution_count": 23,
   "metadata": {
    "scrolled": true
   },
   "outputs": [
    {
     "data": {
      "image/png": "[encoded data removed]",
      "text/plain": [
       "<Figure size 648x360 with 1 Axes>"
      ]
     },
     "metadata": {
      "needs_background": "light"
     },
     "output_type": "display_data"
    }
   ],
   "source": [
    "plot_2d_chart(centers,prediction)"
   ]
  },
  {
   "cell_type": "code",
   "execution_count": 26,
   "metadata": {},
   "outputs": [],
   "source": [
    "# Set general coordinates of San Francisco city\n",
    "COORDINATES = (41.881832, -87.623177) \n",
    "\n",
    "MAX_RECORDS = 100"
   ]
  },
  {
   "cell_type": "code",
   "execution_count": 27,
   "metadata": {},
   "outputs": [],
   "source": [
    "m = folium.Map(location=COORDINATES, zoom_start=12)\n"
   ]
  },
  {
   "cell_type": "code",
   "execution_count": 28,
   "metadata": {},
   "outputs": [],
   "source": [
    "list_loc=[]\n",
    "\n",
    "list_pred=[]\n",
    "\n",
    "for i in np.arange(0,k):\n",
    "    pred = prediction.select(\"features\",\"prediction\").limit(200).collect()\n",
    "    for x,y in pred:\n",
    "        list_loc.append(x[0:2])\n",
    "        list_pred.append(y)"
   ]
  },
  {
   "cell_type": "code",
   "execution_count": 36,
   "metadata": {},
   "outputs": [
    {
     "data": {
      "text/plain": [
       "['darkpurple', 'lightgreen', 'darkblue', 'darkgreen']"
      ]
     },
     "execution_count": 36,
     "metadata": {},
     "output_type": "execute_result"
    }
   ],
   "source": [
    "color = ['green', 'gray', 'lightgreen', 'orange', 'pink', 'lightgray', 'blue', 'darkblue', 'black',\n",
    "         'beige', 'darkred', 'cadetblue', 'purple', 'lightblue', 'darkpurple', 'darkgreen', 'lightred', 'red']\n",
    "color_list = random.sample(color,k)\n",
    "color_list"
   ]
  },
  {
   "cell_type": "code",
   "execution_count": 37,
   "metadata": {},
   "outputs": [],
   "source": [
    "#Painting the markers and circles in the map for Kmeans clustering\n",
    "for i, l in enumerate(list_pred):\n",
    "    folium.Marker(\n",
    "        location = list_loc[i],\n",
    "        popup=\"Cluster:\"+str(l),\n",
    "        icon=folium.Icon(color=color_list[l])).add_to(m)"
   ]
  },
  {
   "cell_type": "code",
   "execution_count": 38,
   "metadata": {},
   "outputs": [
    {
     "data": {
      "text/plain": [
       "<folium.map.LayerControl at 0x7f07e0bc6190>"
      ]
     },
     "execution_count": 38,
     "metadata": {},
     "output_type": "execute_result"
    }
   ],
   "source": [
    "folium.LayerControl().add_to(m)\n"
   ]
  },
  {
   "cell_type": "code",
   "execution_count": 39,
   "metadata": {},
   "outputs": [],
   "source": [
    "m.save(outfile='/home/master/Escritorio/map_seda-homework2.html')"
   ]
  },
  {
   "cell_type": "code",
   "execution_count": 40,
   "metadata": {},
   "outputs": [
    {
     "data": {
      "text/html": [
       "\n",
       "        <iframe\n",
       "            width=\"900\"\n",
       "            height=\"650\"\n",
       "            src=\"Escritorio/map_seda-homework2.html\"\n",
       "            frameborder=\"0\"\n",
       "            allowfullscreen\n",
       "        ></iframe>\n",
       "        "
      ],
      "text/plain": [
       "<IPython.lib.display.IFrame at 0x7f07df616750>"
      ]
     },
     "execution_count": 40,
     "metadata": {},
     "output_type": "execute_result"
    }
   ],
   "source": [
    "path = '/home/master/Escritorio/map_seda-homework2.html'\n",
    "import os\n",
    "rel_path = os.path.relpath(path)\n",
    "from IPython.display import IFrame\n",
    "IFrame(rel_path, width=900, height=650)"
   ]
  },
  {
   "cell_type": "code",
   "execution_count": null,
   "metadata": {},
   "outputs": [],
   "source": []
  },
  {
   "cell_type": "code",
   "execution_count": null,
   "metadata": {},
   "outputs": [],
   "source": []
  }
 ],
 "metadata": {
  "kernelspec": {
   "display_name": "Python 3",
   "language": "python",
   "name": "python3"
  },
  "language_info": {
   "codemirror_mode": {
    "name": "ipython",
    "version": 3
   },
   "file_extension": ".py",
   "mimetype": "text/x-python",
   "name": "python",
   "nbconvert_exporter": "python",
   "pygments_lexer": "ipython3",
   "version": "3.7.7"
  }
 },
 "nbformat": 4,
 "nbformat_minor": 2
}
