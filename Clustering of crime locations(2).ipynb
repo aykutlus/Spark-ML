{
 "cells": [
  {
   "cell_type": "code",
   "execution_count": 2,
   "metadata": {},
   "outputs": [],
   "source": [
    "# Import requiered libriaries\n",
    "\n",
    "from pyspark.sql import SparkSession\n",
    "from pyspark.sql.types import *\n",
    "%matplotlib inline\n",
    "import matplotlib.pyplot as plt\n",
    "import pandas as pd\n",
    "import numpy as np\n",
    "from pyspark.ml.linalg import Vectors\n",
    "import matplotlib.patches as mpatches\n",
    "import random\n",
    "import folium\n"
   ]
  },
  {
   "cell_type": "code",
   "execution_count": 3,
   "metadata": {},
   "outputs": [],
   "source": [
    "# Set spark session\n",
    "spark_session = SparkSession \\\n",
    "    .builder \\\n",
    "    .getOrCreate()"
   ]
  },
  {
   "cell_type": "code",
   "execution_count": 4,
   "metadata": {},
   "outputs": [],
   "source": [
    "# Load dataset\n",
    "dataset = spark_session\\\n",
    "        .read\\\n",
    "        .format(\"csv\")\\\n",
    "        .options(header='true', inferschema='true', delimiter=',')\\\n",
    "        .load(\"/home/master/crimes.csv\")"
   ]
  },
  {
   "cell_type": "code",
   "execution_count": 5,
   "metadata": {},
   "outputs": [],
   "source": [
    "seed=1\n",
    "dataset1 = dataset.sample(fraction=0.01,seed=seed)\n",
    "del(dataset) #delete pandas dataframe from memory"
   ]
  },
  {
   "cell_type": "markdown",
   "metadata": {},
   "source": [
    "## Preprocessing"
   ]
  },
  {
   "cell_type": "code",
   "execution_count": 6,
   "metadata": {},
   "outputs": [],
   "source": [
    "#Clear blank values\n",
    "dataset = dataset1.where(dataset1.Latitude.isNotNull() & dataset1.Longitude.isNotNull())"
   ]
  },
  {
   "cell_type": "code",
   "execution_count": 7,
   "metadata": {},
   "outputs": [
    {
     "name": "stdout",
     "output_type": "stream",
     "text": [
      "root\n",
      " |-- ID: integer (nullable = true)\n",
      " |-- Case Number: string (nullable = true)\n",
      " |-- Date: string (nullable = true)\n",
      " |-- Block: string (nullable = true)\n",
      " |-- IUCR: string (nullable = true)\n",
      " |-- Primary Type: string (nullable = true)\n",
      " |-- Description: string (nullable = true)\n",
      " |-- Location Description: string (nullable = true)\n",
      " |-- Arrest: boolean (nullable = true)\n",
      " |-- Domestic: boolean (nullable = true)\n",
      " |-- Beat: integer (nullable = true)\n",
      " |-- District: integer (nullable = true)\n",
      " |-- Ward: integer (nullable = true)\n",
      " |-- Community Area: integer (nullable = true)\n",
      " |-- FBI Code: string (nullable = true)\n",
      " |-- X Coordinate: integer (nullable = true)\n",
      " |-- Y Coordinate: integer (nullable = true)\n",
      " |-- Year: integer (nullable = true)\n",
      " |-- Updated On: string (nullable = true)\n",
      " |-- Latitude: double (nullable = true)\n",
      " |-- Longitude: double (nullable = true)\n",
      " |-- Location: string (nullable = true)\n",
      "\n"
     ]
    }
   ],
   "source": [
    "dataset.printSchema()"
   ]
  },
  {
   "cell_type": "code",
   "execution_count": 8,
   "metadata": {},
   "outputs": [
    {
     "name": "stdout",
     "output_type": "stream",
     "text": [
      "+--------+-----------+--------------------+--------------------+----+-----------------+--------------------+--------------------+------+--------+----+--------+----+--------------+--------+------------+------------+----+--------------------+------------+-------------+--------------------+\n",
      "|      ID|Case Number|                Date|               Block|IUCR|     Primary Type|         Description|Location Description|Arrest|Domestic|Beat|District|Ward|Community Area|FBI Code|X Coordinate|Y Coordinate|Year|          Updated On|    Latitude|    Longitude|            Location|\n",
      "+--------+-----------+--------------------+--------------------+----+-----------------+--------------------+--------------------+------+--------+----+--------+----+--------------+--------+------------+------------+----+--------------------+------------+-------------+--------------------+\n",
      "|11668309|   JC238187|04/25/2019 05:20:...|108XX S DR MARTIN...|0486|          BATTERY|DOMESTIC BATTERY ...|           RESIDENCE| false|    true| 513|       5|   9|            49|     08B|     1180832|     1833222|2019|06/30/2019 03:56:...|41.697609261|-87.613507612|(41.697609261, -8...|\n",
      "|11675338|   JC248737|05/03/2019 07:50:...| 053XX N WESTERN AVE|0460|          BATTERY|              SIMPLE|            SIDEWALK| false|   false|2011|      20|  40|             4|     08B|     1159383|     1935290|2019|06/03/2019 04:14:...|41.978160468|-87.689240087|(41.978160468, -8...|\n",
      "|11689624|   JC266039|05/16/2019 07:23:...|   054XX W WALTON ST|0430|          BATTERY|AGGRAVATED: OTHER...|               ALLEY|  true|   false|1524|      15|  37|            25|     04B|     1139769|     1905799|2019|06/04/2019 04:01:...|41.897616218|-87.762094231|(41.897616218, -8...|\n",
      "|11664785|   JC235898|04/23/2019 08:30:...|039XX W CONGRESS ...|0325|          ROBBERY| VEHICULAR HIJACKING|              STREET| false|   false|1132|      11|  28|            26|      03|     1150305|     1897404|2019|06/30/2019 03:56:...|41.874380415|-87.723615426|(41.874380415, -8...|\n",
      "|11706848|   JC287083|05/31/2019 11:28:...|063XX W DIVERSEY AVE|143A|WEAPONS VIOLATION|UNLAWFUL POSS OF ...|              STREET|  true|   false|2511|      25|  36|            19|      15|     1133482|     1917928|2019|06/30/2019 03:56:...|41.931012239|-87.784901193|(41.931012239, -8...|\n",
      "+--------+-----------+--------------------+--------------------+----+-----------------+--------------------+--------------------+------+--------+----+--------+----+--------------+--------+------------+------------+----+--------------------+------------+-------------+--------------------+\n",
      "only showing top 5 rows\n",
      "\n"
     ]
    }
   ],
   "source": [
    "dataset.show(5)"
   ]
  },
  {
   "cell_type": "code",
   "execution_count": 9,
   "metadata": {},
   "outputs": [],
   "source": [
    "## Now we should use ID as label and Latitude and Longitude as feature vector and convert them to ML format."
   ]
  },
  {
   "cell_type": "code",
   "execution_count": 10,
   "metadata": {},
   "outputs": [],
   "source": [
    "id1 = dataset.select(\"ID\").rdd.flatMap(lambda x: x).collect()\n",
    "lat = dataset.select(\"Latitude\").rdd.flatMap(lambda x: x).collect()\n",
    "long = dataset.select(\"Longitude\").rdd.flatMap(lambda x: x).collect()"
   ]
  },
  {
   "cell_type": "code",
   "execution_count": 11,
   "metadata": {},
   "outputs": [],
   "source": [
    "loc_tuple = zip(lat,long)"
   ]
  },
  {
   "cell_type": "code",
   "execution_count": 12,
   "metadata": {},
   "outputs": [
    {
     "data": {
      "text/plain": [
       "DenseVector([41.9782, -87.6892])"
      ]
     },
     "execution_count": 12,
     "metadata": {},
     "output_type": "execute_result"
    }
   ],
   "source": [
    "list1 = []\n",
    "for i in loc_tuple:\n",
    "    list1.append(Vectors.dense([i[0],i[1]]))\n",
    "    \n",
    "list1[1]"
   ]
  },
  {
   "cell_type": "code",
   "execution_count": 13,
   "metadata": {},
   "outputs": [],
   "source": [
    "data = zip(id1,list1)"
   ]
  },
  {
   "cell_type": "code",
   "execution_count": 14,
   "metadata": {},
   "outputs": [],
   "source": [
    "df = spark_session.createDataFrame(data, [\"label\", \"features\"])"
   ]
  },
  {
   "cell_type": "code",
   "execution_count": 15,
   "metadata": {},
   "outputs": [
    {
     "name": "stdout",
     "output_type": "stream",
     "text": [
      "root\n",
      " |-- label: long (nullable = true)\n",
      " |-- features: vector (nullable = true)\n",
      "\n"
     ]
    }
   ],
   "source": [
    "df.printSchema()"
   ]
  },
  {
   "cell_type": "code",
   "execution_count": 16,
   "metadata": {},
   "outputs": [
    {
     "name": "stdout",
     "output_type": "stream",
     "text": [
      "+--------+--------------------+\n",
      "|   label|            features|\n",
      "+--------+--------------------+\n",
      "|11668309|[41.697609261,-87...|\n",
      "|11675338|[41.978160468,-87...|\n",
      "|11689624|[41.897616218,-87...|\n",
      "|11664785|[41.874380415,-87...|\n",
      "|11706848|[41.931012239,-87...|\n",
      "+--------+--------------------+\n",
      "only showing top 5 rows\n",
      "\n"
     ]
    }
   ],
   "source": [
    "df.show(5)"
   ]
  },
  {
   "cell_type": "code",
   "execution_count": 17,
   "metadata": {},
   "outputs": [],
   "source": [
    "training, test = df.randomSplit([0.75, 0.25])"
   ]
  },
  {
   "cell_type": "markdown",
   "metadata": {},
   "source": [
    "## KMeans Model"
   ]
  },
  {
   "cell_type": "code",
   "execution_count": 30,
   "metadata": {},
   "outputs": [
    {
     "name": "stdout",
     "output_type": "stream",
     "text": [
      "Enter desired number of cluster(k): 2\n"
     ]
    }
   ],
   "source": [
    "#Asking for number of cluster\n",
    "k=int(input(\"Enter desired number of cluster(k): \"))"
   ]
  },
  {
   "cell_type": "code",
   "execution_count": 31,
   "metadata": {},
   "outputs": [
    {
     "name": "stdout",
     "output_type": "stream",
     "text": [
      "Cluster centers: \n",
      "[ 41.76087215 -87.63542973]\n",
      "[ 41.91093939 -87.70302064]\n"
     ]
    }
   ],
   "source": [
    "from pyspark.ml.clustering import KMeans\n",
    "\n",
    "# Trains a k-means model\n",
    "\n",
    "kmeans = KMeans()\\\n",
    "        .setK(k)\\\n",
    "        .setSeed(1)\n",
    "\n",
    "kmeans_model = kmeans.fit(training)\n",
    "\n",
    "# Shows the result\n",
    "centers = kmeans_model.clusterCenters()\n",
    "print(\"Cluster centers: \")\n",
    "\n",
    "for center in centers:\n",
    "    print(center)"
   ]
  },
  {
   "cell_type": "code",
   "execution_count": 32,
   "metadata": {},
   "outputs": [
    {
     "name": "stdout",
     "output_type": "stream",
     "text": [
      "root\n",
      " |-- label: long (nullable = true)\n",
      " |-- features: vector (nullable = true)\n",
      " |-- prediction: integer (nullable = false)\n",
      "\n",
      "+-----+--------------------+----------+\n",
      "|label|            features|prediction|\n",
      "+-----+--------------------+----------+\n",
      "| 1054|[41.887243008,-87...|         1|\n",
      "| 1261|[41.736839959,-87...|         0|\n",
      "| 1309|[41.786291714,-87...|         0|\n",
      "| 1362|[41.734454625,-87...|         0|\n",
      "| 2979|[41.846434616,-87...|         1|\n",
      "| 3356|[41.755644606,-87...|         0|\n",
      "| 3653|[41.895476313,-87...|         1|\n",
      "| 3785|[41.83670752,-87....|         0|\n",
      "|19150|[41.769779493,-87...|         0|\n",
      "|19258|[41.787575548,-87...|         1|\n",
      "|19321|[41.85818581,-87....|         1|\n",
      "|19361|[41.671646979,-87...|         0|\n",
      "|19855|[41.803335167,-87...|         0|\n",
      "|20118|[41.752812742,-87...|         0|\n",
      "|20286|[41.762007252,-87...|         0|\n",
      "|20302|[41.751036939,-87...|         0|\n",
      "|22072|[41.885342324,-87...|         1|\n",
      "|22166|[41.7604601,-87.6...|         0|\n",
      "|22331|[41.803723648,-87...|         0|\n",
      "|22434|[41.686252712,-87...|         0|\n",
      "+-----+--------------------+----------+\n",
      "only showing top 20 rows\n",
      "\n",
      "Test Accuracy = 0.718144 \n",
      "Test Error = 0.281856 \n"
     ]
    }
   ],
   "source": [
    "from pyspark.ml.evaluation import ClusteringEvaluator\n",
    "\n",
    "#Test\n",
    "prediction = kmeans_model.transform(test)\n",
    "\n",
    "prediction.printSchema()\n",
    "prediction.show()\n",
    "\n",
    "# Model evaluation\n",
    "evaluator = ClusteringEvaluator()\n",
    "accuracy = evaluator.evaluate(prediction)\n",
    "\n",
    "print(\"Test Accuracy = %g \" % accuracy)\n",
    "print(\"Test Error = %g \" % (1.0 - accuracy))"
   ]
  },
  {
   "cell_type": "code",
   "execution_count": 33,
   "metadata": {},
   "outputs": [
    {
     "name": "stdout",
     "output_type": "stream",
     "text": [
      "+----------+-----+\n",
      "|prediction|count|\n",
      "+----------+-----+\n",
      "|         1| 9486|\n",
      "|         0| 7925|\n",
      "+----------+-----+\n",
      "\n"
     ]
    }
   ],
   "source": [
    "##number of points of each cluster\n",
    "prediction.groupby(\"prediction\").count().show()"
   ]
  },
  {
   "cell_type": "markdown",
   "metadata": {},
   "source": [
    "## 2D chart including the centroids"
   ]
  },
  {
   "cell_type": "code",
   "execution_count": 34,
   "metadata": {},
   "outputs": [],
   "source": [
    "def plot_2d_chart(center_data,prediction_data):\n",
    "    plt.figure(figsize=(9,5))\n",
    "    \n",
    "    center_lat = []\n",
    "    center_long = []\n",
    "    \n",
    "    for x,y in centers:\n",
    "        center_lat.append(x)\n",
    "        center_long.append(y)\n",
    "        \n",
    "    list_lat =[]\n",
    "    list_long =[]\n",
    "    list_pred=[]\n",
    "    \n",
    "\n",
    "    number_of_colors = k\n",
    "    color_list = [\"#\"+''.join([random.choice('0123456789ABCDEF') for j in range(6)])\n",
    "                  for i in range(number_of_colors)]\n",
    "        \n",
    "    label = []\n",
    "    \n",
    "    for i in np.arange(0,k):\n",
    "        pred = prediction.select(\"features\",\"prediction\").limit(200).collect()\n",
    "        label.append(\"cluster \" + str(i))\n",
    "        \n",
    "        for x,y in pred:\n",
    "            list_lat.append(x[0])\n",
    "            list_long.append(x[1])\n",
    "            list_pred.append(y)\n",
    "            \n",
    "\n",
    "    recs = []\n",
    "    for i in range(0,len(color_list)):\n",
    "        recs.append(mpatches.Rectangle((0,0),1,1,fc=color_list[i]))\n",
    "            \n",
    "    for i, l in enumerate(list_pred):\n",
    "        plt.scatter(list_lat[i], list_long[i], c=color_list[l] ,marker='X')\n",
    "        plt.legend(recs,label,loc=1)\n",
    "\n",
    "\n",
    "        \n",
    "    plt.scatter(center_lat, center_long,marker=\"o\",s=200,edgecolors=\"red\",facecolors='none',linewidths=3)\n",
    "    plt.xlabel('Latitude')\n",
    "    plt.ylabel('Longitude')\n",
    "    plt.title('KMeans Centroids')\n",
    "    plt.grid()\n",
    "    plt.show()\n"
   ]
  },
  {
   "cell_type": "code",
   "execution_count": 35,
   "metadata": {
    "scrolled": true
   },
   "outputs": [
    {
     "data": {
      "image/png": "[encoded data removed]",
      "text/plain": [
       "<Figure size 648x360 with 1 Axes>"
      ]
     },
     "metadata": {
      "needs_background": "light"
     },
     "output_type": "display_data"
    }
   ],
   "source": [
    "plot_2d_chart(centers,prediction)"
   ]
  },
  {
   "cell_type": "code",
   "execution_count": 92,
   "metadata": {},
   "outputs": [],
   "source": [
    "# Set general coordinates of San Francisco city\n",
    "COORDINATES = (41.881832, -87.623177) \n",
    "\n",
    "MAX_RECORDS = 100"
   ]
  },
  {
   "cell_type": "code",
   "execution_count": 93,
   "metadata": {},
   "outputs": [],
   "source": [
    "m = folium.Map(location=COORDINATES, zoom_start=12)\n"
   ]
  },
  {
   "cell_type": "code",
   "execution_count": 94,
   "metadata": {},
   "outputs": [],
   "source": [
    "list_loc=[]\n",
    "\n",
    "list_pred=[]\n",
    "\n",
    "for i in np.arange(0,k):\n",
    "    pred = prediction.select(\"features\",\"prediction\").limit(200).collect()\n",
    "    for x,y in pred:\n",
    "        list_loc.append(x[0:2])\n",
    "        list_pred.append(y)"
   ]
  },
  {
   "cell_type": "code",
   "execution_count": 134,
   "metadata": {},
   "outputs": [
    {
     "data": {
      "text/plain": [
       "['gray', 'green']"
      ]
     },
     "execution_count": 134,
     "metadata": {},
     "output_type": "execute_result"
    }
   ],
   "source": [
    "color = ['green', 'gray', 'lightgreen', 'orange', 'pink', 'lightgray', 'blue', 'darkblue', 'black',\n",
    "         'beige', 'darkred', 'cadetblue', 'purple', 'lightblue', 'darkpurple', 'darkgreen', 'lightred', 'red']\n",
    "color_list = random.sample(color,k)\n",
    "color_list"
   ]
  },
  {
   "cell_type": "code",
   "execution_count": 135,
   "metadata": {},
   "outputs": [],
   "source": [
    "#Painting the markers and circles in the map for Kmeans clustering\n",
    "for i, l in enumerate(list_pred):\n",
    "    folium.Marker(\n",
    "        location = list_loc[i],\n",
    "        popup=\"Cluster:\"+str(l),\n",
    "        icon=folium.Icon(color=color_list[l])).add_to(m)"
   ]
  },
  {
   "cell_type": "code",
   "execution_count": 136,
   "metadata": {},
   "outputs": [
    {
     "data": {
      "text/plain": [
       "<folium.map.LayerControl at 0x7f1d0ee0d350>"
      ]
     },
     "execution_count": 136,
     "metadata": {},
     "output_type": "execute_result"
    }
   ],
   "source": [
    "folium.LayerControl().add_to(m)\n"
   ]
  },
  {
   "cell_type": "code",
   "execution_count": 137,
   "metadata": {},
   "outputs": [],
   "source": [
    "m.save(outfile='/home/master/Escritorio/map_seda-homework2.html')"
   ]
  },
  {
   "cell_type": "code",
   "execution_count": 138,
   "metadata": {},
   "outputs": [
    {
     "data": {
      "text/html": [
       "\n",
       "        <iframe\n",
       "            width=\"900\"\n",
       "            height=\"650\"\n",
       "            src=\"Escritorio/map_seda-homework2.html\"\n",
       "            frameborder=\"0\"\n",
       "            allowfullscreen\n",
       "        ></iframe>\n",
       "        "
      ],
      "text/plain": [
       "<IPython.lib.display.IFrame at 0x7f1d0e78b510>"
      ]
     },
     "execution_count": 138,
     "metadata": {},
     "output_type": "execute_result"
    }
   ],
   "source": [
    "path = '/home/master/Escritorio/map_seda-homework2.html'\n",
    "import os\n",
    "rel_path = os.path.relpath(path)\n",
    "from IPython.display import IFrame\n",
    "IFrame(rel_path, width=900, height=650)"
   ]
  },
  {
   "cell_type": "code",
   "execution_count": null,
   "metadata": {},
   "outputs": [],
   "source": []
  },
  {
   "cell_type": "code",
   "execution_count": null,
   "metadata": {},
   "outputs": [],
   "source": []
  }
 ],
 "metadata": {
  "kernelspec": {
   "display_name": "Python 3",
   "language": "python",
   "name": "python3"
  },
  "language_info": {
   "codemirror_mode": {
    "name": "ipython",
    "version": 3
   },
   "file_extension": ".py",
   "mimetype": "text/x-python",
   "name": "python",
   "nbconvert_exporter": "python",
   "pygments_lexer": "ipython3",
   "version": "3.7.7"
  }
 },
 "nbformat": 4,
 "nbformat_minor": 2
}
